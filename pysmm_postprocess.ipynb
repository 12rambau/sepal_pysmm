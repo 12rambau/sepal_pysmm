{
 "cells": [
  {
   "cell_type": "code",
   "execution_count": 3,
   "metadata": {
    "scrolled": true
   },
   "outputs": [
    {
     "data": {
      "application/vnd.jupyter.widget-view+json": {
       "model_id": "e300387775174b64a780a788a79960a7",
       "version_major": 2,
       "version_minor": 0
      },
      "text/plain": [
       "HBox(children=(Label(value='Select the folder you want process:'), Select(options=('103_phu_merged', '107_phu_…"
      ]
     },
     "metadata": {},
     "output_type": "display_data"
    },
    {
     "data": {
      "application/vnd.jupyter.widget-view+json": {
       "model_id": "511612f5e3a9436cb722662ec608072e",
       "version_major": 2,
       "version_minor": 0
      },
      "text/plain": [
       "HBox(children=(Button(description='Process the folder', style=ButtonStyle()),))"
      ]
     },
     "metadata": {},
     "output_type": "display_data"
    },
    {
     "data": {
      "application/vnd.jupyter.widget-view+json": {
       "model_id": "063adc3e86584342ab22eccda62ca500",
       "version_major": 2,
       "version_minor": 0
      },
      "text/plain": [
       "Output()"
      ]
     },
     "metadata": {},
     "output_type": "display_data"
    }
   ],
   "source": [
    "import os\n",
    "import getpass\n",
    "import glob\n",
    "import ipywidgets as widgets\n",
    "import scripts.filter_closing_smm as cfilter\n",
    "import subprocess\n",
    "from ipywidgets import VBox, HBox, Label, interactive, Box\n",
    "from tqdm.notebook import trange, tqdm\n",
    "\n",
    "user = getpass.getuser()\n",
    "raw_path = f'/home/{user}/pysmm_downloads/0_raw/'\n",
    "\n",
    "def return_paths(raw_path):\n",
    "    \"\"\"Create a list of folders in a given path\n",
    "    skipping those with begin with '.' and are empty\n",
    "\n",
    "    \"\"\"\n",
    "    paths = [folder for folder in os.listdir(raw_path) \n",
    "             if os.path.isdir(os.path.join(raw_path, folder)) and not folder.startswith('.') \n",
    "             and len(os.listdir(os.path.join(raw_path, folder))) != 0\n",
    "            ]\n",
    "    paths.sort()\n",
    "    return paths\n",
    "\n",
    "def return_images(path):\n",
    "    tifs = glob.glob(path+'/*.tif')\n",
    "    return tifs\n",
    "\n",
    "def get_select2(*args):\n",
    "    options = return_paths(os.path.join(raw_path, select_1.value))\n",
    "    select_2.options = options\n",
    "\n",
    "def closing_filter(process_path):\n",
    "    IMAGES_TYPES = ('.tif')\n",
    "    folder = process_path\n",
    "    image_files = []    \n",
    "    if os.path.isdir(folder):\n",
    "        for root, dirs, files in os.walk(folder):\n",
    "            if len(files) != 0:\n",
    "                files = [os.path.join(root, x) for x in files if x.endswith(IMAGES_TYPES)]\n",
    "                [image_files.append(os.path.abspath(file)) for file in files]\n",
    "    else:\n",
    "        print(f'ERROR: The {folder} joined is not a directory path.')\n",
    "    print(f'There are {len(image_files)} images to process, please wait...')\n",
    "\n",
    "    dates = []\n",
    "    for i in trange(len(image_files)):\n",
    "        dates.append(cfilter.extract_image_info(image_files[i]))\n",
    "        cfilter.raw_to_processed(image_files[i])\n",
    "    \n",
    "    \n",
    "def process(feature, field):\n",
    "    print('Postprocessing the soil moisture maps')\n",
    "    process_path = os.path.join(raw_path, feature, field)\n",
    "    closing_filter(process_path)\n",
    "\n",
    "def run():\n",
    "    w = interactive(process, {'manual':True}, feature=select_1, field=select_2)\n",
    "    w.children[0].description = ''\n",
    "    w.children[1].description = ''\n",
    "    w.children[2].description = 'Process the folder'\n",
    "    \n",
    "    display(HBox([Label('Select the folder you want process:'), w.children[0], w.children[1]]))\n",
    "    display(HBox([w.children[2]]))\n",
    "    display(w.children[-1])\n",
    "\n",
    "raw_folders = []\n",
    "    \n",
    "select_1 = widgets.Select(\n",
    "    options=return_paths(raw_path),\n",
    ")\n",
    "\n",
    "select_2 = widgets.Select()\n",
    "select_1.observe(get_select2)    \n",
    "    \n",
    "run()"
   ]
  },
  {
   "cell_type": "code",
   "execution_count": 4,
   "metadata": {},
   "outputs": [
    {
     "data": {
      "text/plain": [
       "'103_phu_merged'"
      ]
     },
     "execution_count": 4,
     "metadata": {},
     "output_type": "execute_result"
    }
   ],
   "source": [
    "select_1.value"
   ]
  },
  {
   "cell_type": "code",
   "execution_count": 6,
   "metadata": {},
   "outputs": [
    {
     "data": {
      "application/vnd.jupyter.widget-view+json": {
       "model_id": "326c121918b14dddb23ec9ce32ac6040",
       "version_major": 2,
       "version_minor": 0
      },
      "text/plain": [
       "interactive(children=(Dropdown(description='statistics:', options=('median', 'mean', 'gmean', 'max', 'min', 's…"
      ]
     },
     "metadata": {},
     "output_type": "display_data"
    }
   ],
   "source": [
    "statistic = widgets.Dropdown(\n",
    "    options=['median', 'mean', 'gmean', 'max', 'min', 'std', 'valid_pixels'],\n",
    "    value='median',\n",
    "    description='statistics:',\n",
    "    disabled=False,\n",
    ")\n",
    "\n",
    "out_process_path = os.path.join(raw_path, select_1.value, select_2.value).replace('0_raw','1_processed')\n",
    "\n",
    "def stack_composed(statistic):\n",
    "    stat = statistic\n",
    "    tifs = glob.glob(out_process_path+'/*.tif')\n",
    "    process = subprocess.run(['stack-composed',\n",
    "                                '-stat', stat,\n",
    "                                '-bands', '1',\n",
    "                                '-o', out_process_path]+\n",
    "                                tifs,\n",
    "                            stdout=subprocess.PIPE,\n",
    "                            stderr=subprocess.PIPE,\n",
    "                            universal_newlines=True)\n",
    "    \n",
    "    if process.returncode == 0:\n",
    "        print('Done!')\n",
    "    else:\n",
    "        print(process.stderr)\n",
    "        \n",
    "\n",
    "\n",
    "def run_stack():\n",
    "    \n",
    "    w = interactive(stack_composed, {'manual':True}, statistic=statistic)\n",
    "    w.children[1].description = 'Run stack composed'\n",
    "    display(w)\n",
    "\n",
    "run_stack()"
   ]
  }
 ],
 "metadata": {
  "kernelspec": {
   "display_name": "Python 3",
   "language": "python",
   "name": "python3"
  },
  "language_info": {
   "codemirror_mode": {
    "name": "ipython",
    "version": 3
   },
   "file_extension": ".py",
   "mimetype": "text/x-python",
   "name": "python",
   "nbconvert_exporter": "python",
   "pygments_lexer": "ipython3",
   "version": "3.6.9"
  }
 },
 "nbformat": 4,
 "nbformat_minor": 4
}
