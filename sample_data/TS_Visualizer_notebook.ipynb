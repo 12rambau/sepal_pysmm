{
 "cells": [
  {
   "cell_type": "code",
   "execution_count": null,
   "metadata": {},
   "outputs": [],
   "source": [
    "from datetime import datetime, date\n",
    "import numpy as np\n",
    "import pandas as pd\n",
    "import geemap\n",
    "import ipywidgets as widgets\n",
    "from ipywidgets import interact, HTML, interact_manual, interactive, HBox, VBox\n",
    "\n",
    "import ee\n",
    "import matplotlib.pyplot as plt"
   ]
  },
  {
   "cell_type": "code",
   "execution_count": null,
   "metadata": {},
   "outputs": [],
   "source": [
    "ee.Initialize()\n",
    "aoi_ee = ee.FeatureCollection('users/dafguerrerom/FAO/PYSMM/sipalaga_phu_points')"
   ]
  },
  {
   "cell_type": "code",
   "execution_count": null,
   "metadata": {},
   "outputs": [],
   "source": [
    "Map = geemap.Map(center=[-2.12, 113.83], zoom=6)\n",
    "Map.layout.height='250px'\n",
    "Map.layout.width='250px'\n",
    "Map.clear_controls()\n",
    "Map.add_basemap('Google Satellite')"
   ]
  },
  {
   "cell_type": "code",
   "execution_count": null,
   "metadata": {},
   "outputs": [],
   "source": [
    "sipalaga_data = pd.read_pickle('data/pysmm_ts_SIPALAGA_points.pkl')\n",
    "sipalaga_data = sipalaga_data.set_index('Location')"
   ]
  },
  {
   "cell_type": "code",
   "execution_count": null,
   "metadata": {},
   "outputs": [],
   "source": [
    "# Widgets\n",
    "def create_wpoints(data):\n",
    "    w_points = widgets.Dropdown(\n",
    "        options=data.index.values.tolist(),\n",
    "        value=data.index.values.tolist()[0],\n",
    "        description='ID:',\n",
    "        disabled=False,\n",
    "    )\n",
    "    return w_points\n",
    "\n",
    "w_measures = widgets.Dropdown(\n",
    "    options = ['GWL_max', 'GWL_min', 'GWL_rata', 'SM_max', 'SM_min', 'SM_rata', 'Total'],\n",
    "    value = 'GWL_max'\n",
    ")\n",
    "\n",
    "start_date = datetime(2014, 1, 1)\n",
    "end_date = date.today()\n",
    "dates = pd.date_range(start_date, end_date, freq='M')\n",
    "\n",
    "options = [(date.strftime(' %b %Y '), date) for date in dates]\n",
    "index = (0, len(options)-1)\n",
    "\n",
    "w_date_slider = widgets.SelectionRangeSlider(\n",
    "    options=options,\n",
    "    index=index,\n",
    "    description='Dates',\n",
    "    orientation='horizontal',\n",
    "    layout={'width': '500px'}\n",
    ")\n",
    "\n",
    "w_temp = widgets.Dropdown(\n",
    "    options=[('Daily', 'd'),('Monthly','m'), ('Yearly','y')],\n",
    "    value='d',\n",
    "    description='Group by:',\n",
    "    disabled=False,\n",
    ")"
   ]
  },
  {
   "cell_type": "code",
   "execution_count": null,
   "metadata": {},
   "outputs": [],
   "source": [
    "def read_measures(csv, id_name, date_name, measure, format_date=\"%d/%m/%Y\", delimiter=\";\"):\n",
    "    data = (csv)\n",
    "    pd_ds = pd.read_csv(data, delimiter=delimiter)\n",
    "    pd_ds = pd_ds.set_index(pd_ds[id_name])\n",
    "    pd_ds[date_name] = pd.to_datetime(pd_ds[date_name], format=format_date)\n",
    "    \n",
    "    pd_ds=pd_ds.rename(columns = {date_name:'date', id_name:'pid', measure: 'measure'})\n",
    "    \n",
    "    return pd_ds"
   ]
  },
  {
   "cell_type": "code",
   "execution_count": null,
   "metadata": {},
   "outputs": [],
   "source": [
    "def combine_smm(smm_data, pd_ds):\n",
    "    df1 = smm_data.copy()\n",
    "    ds_index = list(pd_ds.index) # Create dataset index list\n",
    "    \n",
    "    for _index, row in df1.iterrows():\n",
    "        if _index in ds_index: # Verify if the point ID exists in the pd_ds info\n",
    "\n",
    "            df2 = pd_ds.loc[_index] # Create sub df from a given Point ID\n",
    "            df2 = df2.set_index(df2['date']) # Make date as pd index\n",
    "            \n",
    "            df3 = df1.loc[_index]['ts_data'] # Select the corresponding df of the given id_point\n",
    "            df3.columns = ['smm'] # Rename the column\n",
    "\n",
    "            df4 = pd.concat([df2,df3], axis=1) # Combine the both df\n",
    "            df1.at[_index, 'ts_data'] = df4 # Overwrite the ts_data with the df\n",
    "            \n",
    "    return df1"
   ]
  },
  {
   "cell_type": "code",
   "execution_count": null,
   "metadata": {},
   "outputs": [],
   "source": [
    "pd_sipalaga = read_measures('data/all_data_location_nonan.csv', \n",
    "                        'Location', \n",
    "                        'date', \n",
    "                        'GWL_max',\n",
    "                        format_date=\"%Y-%m-%d\")\n",
    "combined_sipalaga = combine_smm(sipalaga_data, pd_sipalaga)"
   ]
  },
  {
   "cell_type": "code",
   "execution_count": null,
   "metadata": {},
   "outputs": [],
   "source": [
    "def show_figure(w_date_slider, w_measure, w_points, w_temp):\n",
    "    \n",
    "   \n",
    "    pd_sipalaga = read_measures('data/all_data_location_nonan.csv', \n",
    "                            'Location', \n",
    "                            'date', \n",
    "                            w_measure,\n",
    "                            format_date=\"%Y-%m-%d\")\n",
    "    combined_sipalaga = combine_smm(sipalaga_data, pd_sipalaga)\n",
    "    \n",
    "    data = combined_sipalaga\n",
    "    \n",
    "    ts = data.loc[w_points]['ts_data'][w_date_slider[0]:w_date_slider[1]].groupby(pd.Grouper(freq=w_temp)).mean()\n",
    "\n",
    "    date = ts.index\n",
    "    \n",
    "    field_measure = ts['smm'].interpolate(method='linear')\n",
    "    smm_measure = ts['measure'].interpolate(method='linear')\n",
    "\n",
    "    fig,ax = plt.subplots()\n",
    "    # make a plot\n",
    "    ax.plot(date, field_measure, color=\"red\", marker=\"o\")\n",
    "    # set x-axis label\n",
    "    ax.set_xlabel(\"year\",fontsize=14)\n",
    "    # set y-axis label\n",
    "    ax.set_ylabel(\"Soil Moisture Map\",color=\"red\",fontsize=14)\n",
    "    \n",
    "    # twin object for two different y-axis on the sample plot\n",
    "    ax2=ax.twinx()\n",
    "    # make a plot with different y-axis using second axis object\n",
    "    ax2.plot(date, smm_measure, color=\"blue\", marker=\"o\")\n",
    "    ax2.set_ylabel(w_measure, color=\"blue\", fontsize=14)\n",
    "\n",
    "    # Display Map\n",
    "    selected_feature = aoi_ee.filterMetadata('Location', 'equals', w_points).geometry()\n",
    "    square = selected_feature.buffer(ee.Number(10000).sqrt().divide(2), 1).bounds()\n",
    "    empty = ee.Image().byte();\n",
    "    outline = empty.paint(featureCollection=square, color=1, width=2)\n",
    "    Map.addLayer(outline, {'palette': 'FF0000'}, 'edges');\n",
    "    Map.centerObject(square, zoom=15)\n",
    "    \n",
    "    \n"
   ]
  },
  {
   "cell_type": "code",
   "execution_count": null,
   "metadata": {},
   "outputs": [],
   "source": [
    "run_figure = interactive(show_figure, {'manual':True}, \n",
    "                         w_date_slider=w_date_slider, \n",
    "                         w_measure=w_measures, \n",
    "                         w_points=create_wpoints(sipalaga_data), \n",
    "                            w_temp=w_temp)\n",
    "\n",
    "run_figure.children[-2].description='Show figure'"
   ]
  },
  {
   "cell_type": "code",
   "execution_count": null,
   "metadata": {},
   "outputs": [],
   "source": [
    "def ui():\n",
    "    display(HBox([run_figure.children[1],run_figure.children[2], run_figure.children[3]]))\n",
    "    display(HBox([run_figure.children[0], run_figure.children[-2]]))\n",
    "    display(HBox([run_figure.children[-1], Map]))"
   ]
  },
  {
   "cell_type": "code",
   "execution_count": null,
   "metadata": {},
   "outputs": [],
   "source": [
    "ui()"
   ]
  }
 ],
 "metadata": {
  "kernelspec": {
   "display_name": "Python 3",
   "language": "python",
   "name": "python3"
  },
  "language_info": {
   "codemirror_mode": {
    "name": "ipython",
    "version": 3
   },
   "file_extension": ".py",
   "mimetype": "text/x-python",
   "name": "python",
   "nbconvert_exporter": "python",
   "pygments_lexer": "ipython3",
   "version": "3.6.9"
  }
 },
 "nbformat": 4,
 "nbformat_minor": 4
}
