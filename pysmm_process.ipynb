{
 "cells": [
  {
   "cell_type": "code",
   "execution_count": 1,
   "metadata": {},
   "outputs": [],
   "source": [
    "import ee\n",
    "import geemap\n",
    "from ipywidgets import HBox, Label, interact, fixed, VBox\n",
    "from ipyleaflet import basemaps\n",
    "from IPython.core.display import HTML \n",
    "import ipywidgets as widgets\n",
    "from ipywidgets import interact, interact_manual, interactive\n",
    "ee.Initialize()"
   ]
  },
  {
   "cell_type": "code",
   "execution_count": 2,
   "metadata": {
    "scrolled": false
   },
   "outputs": [],
   "source": [
    "# Functions\n",
    "\n",
    "def read_field(*args):\n",
    "    id_values_ee = aoi_ee.distinct(column_name.value).aggregate_array(column_name.value).getInfo()\n",
    "    field_name.options = id_values_ee\n",
    "    \n",
    "def on_button_clicked(b):\n",
    "    with output:\n",
    "        button.disabled=True\n",
    "        aoi.disabled=True\n",
    "        start(aoi.value)\n",
    "        \n",
    "def add_layer_to_map(column, field):\n",
    "    selected_feature = aoi_ee.filterMetadata(column, 'equals', float(field)).geometry()\n",
    "    mapa.clear_layers()\n",
    "    mapa.add_basemap('HYBRID')\n",
    "    mapa.addLayer(selected_feature, {'color': 'FF0000'})\n",
    "    mapa.centerObject(selected_feature, zoom=6)\n",
    "    \n",
    "def run_single(column, field, aoi, date): \n",
    "    day = [date.day]\n",
    "    month = [date.month]\n",
    "    year = [date.year]\n",
    "    dates_or_series = day, month, year\n",
    "    run_everything(column, field, aoi, dates_or_series)\n",
    "\n",
    "def run_range(column, field, aoi, ini_date, end_date):\n",
    "\n",
    "    days = [ini_date.day, end_date.day]\n",
    "    months = [ini_date.month, end_date.month]\n",
    "    years = [ini_date.year, end_date.year]\n",
    "    dates_or_series = days, months, years\n",
    "    run_everything(column, field, aoi, dates_or_series)\n",
    "\n",
    "def run_all_time(column, field, aoi):\n",
    "    run_everything(column, field, aoi)\n",
    "\n",
    "def run_everything(column, field, aoi, dates_or_series=False):\n",
    "    study_area = aoi_ee.filterMetadata(column, 'equals', float(field)).geometry().bounds().coordinates()\n",
    "    coords = study_area.get(0).getInfo()\n",
    "    \n",
    "    ll, ur = coords[0], coords[2]\n",
    "    minlon, minlat, maxlon, maxlat = ll[0], ll[1], ur[0], ur[1]\n",
    "\n",
    "    days, months, years = False, False, False\n",
    "    \n",
    "    if dates_or_series is not False:\n",
    "        days, months, years = dates_or_series\n",
    "    \n",
    "    attribute = [aoi, field]\n",
    "    \n",
    "    print(f'Using the feature: {field} and the aoi: \"{aoi}\"')\n",
    "    print('Processing soil moisture maps. This takes a long time')\n",
    "\n",
    "    %run ~/sepal_pysmm/scripts/run_pysmm.py \"$years\" \"$months\" \"$days\" $minlon $minlat $maxlon $maxlat \"$attribute\"\n",
    "    print('done!')\n",
    "\n",
    "def start(aoi):\n",
    "    global mapa\n",
    "    mapa = geemap.Map()\n",
    "    mapa.clear_layers()\n",
    "    mapa.clear_controls()\n",
    "    mapa.add_basemap('HYBRID')\n",
    "    mapa.layout.height='200px'\n",
    "    display(mapa)\n",
    "    \n",
    "    global aoi_ee\n",
    "    aoi_ee = ee.FeatureCollection(aoi)\n",
    "    col_ee = ee.Feature(aoi_ee.first()).propertyNames().getInfo()\n",
    "    column_name.options = col_ee\n",
    "    column_name.observe(read_field)\n",
    "\n",
    "    _ = interactive(add_layer_to_map, column=column_name, field=field_name)\n",
    "    @interact\n",
    "    def select_dates(date=dates):\n",
    "        \n",
    "        date = dates.value\n",
    "        kwargs = {\n",
    "            'column':column_name, \n",
    "            'field':field_name, \n",
    "            'aoi':fixed(aoi)\n",
    "        }\n",
    "        if date == 'Single date':\n",
    "            kwargs['date'] = unique_date\n",
    "            w = interactive(run_single, {'manual':True}, **kwargs)\n",
    "            w.children[3].description = 'Run single date'\n",
    "            display(w)\n",
    "            \n",
    "        elif date == 'Range':\n",
    "            kwargs['ini_date'] = ini_date\n",
    "            kwargs['end_date'] = end_date\n",
    "            w = interactive(run_range, {'manual':True}, **kwargs)\n",
    "            w.children[4].description = 'Run range'\n",
    "            display(w)\n",
    "            \n",
    "        else:\n",
    "            w = interactive(run_all_time, {'manual':True}, **kwargs)\n",
    "            w.children[2].description = 'Run entire series'\n",
    "            display(w)\n",
    "\n",
    "\n"
   ]
  },
  {
   "cell_type": "code",
   "execution_count": 3,
   "metadata": {},
   "outputs": [],
   "source": [
    "# Widgets\n",
    "\n",
    "dates = widgets.ToggleButtons(\n",
    "    options=['Single date', 'Range', 'All time series'],\n",
    "    description='Dates:',\n",
    "    disabled=False\n",
    ")\n",
    "\n",
    "unique_date = widgets.DatePicker(\n",
    "    description='Date',\n",
    "    disabled=False\n",
    ")\n",
    "\n",
    "ini_date = widgets.DatePicker(\n",
    "    description='Start date',\n",
    "    disabled=False\n",
    ")\n",
    "\n",
    "end_date = widgets.DatePicker(\n",
    "    description='End date',\n",
    "    disabled=False\n",
    ")\n",
    "\n",
    "button = widgets.Button(\n",
    "    description=\"Use this asset!\"\n",
    ")\n",
    "\n",
    "output = widgets.Output()\n",
    "\n",
    "aoi =  widgets.Text(\n",
    "    value='users/yelenafinegold/107_phu_merged',\n",
    "    placeholder='Enter your asset ID here',\n",
    ")\n",
    "\n",
    "column_name = widgets.Dropdown(description='Column: ')\n",
    "field_name = widgets.Dropdown(description='Field: ')"
   ]
  },
  {
   "cell_type": "code",
   "execution_count": 4,
   "metadata": {
    "scrolled": false
   },
   "outputs": [
    {
     "data": {
      "application/vnd.jupyter.widget-view+json": {
       "model_id": "fbd1571d02554bd6bbd6ebc8dd707625",
       "version_major": 2,
       "version_minor": 0
      },
      "text/plain": [
       "HBox(children=(HBox(children=(Label(value='Google Earth Engine asset ID: '), Text(value='users/yelenafinegold/…"
      ]
     },
     "metadata": {},
     "output_type": "display_data"
    },
    {
     "data": {
      "application/vnd.jupyter.widget-view+json": {
       "model_id": "78d6e6f390de4c6c9afdbcf3624b5ce4",
       "version_major": 2,
       "version_minor": 0
      },
      "text/plain": [
       "Output()"
      ]
     },
     "metadata": {},
     "output_type": "display_data"
    }
   ],
   "source": [
    "# Run\n",
    "ui1 = HBox([Label('Google Earth Engine asset ID: '), aoi])\n",
    "button.on_click(on_button_clicked)\n",
    "display(HBox([ui1, button]))\n",
    "display(output)"
   ]
  }
 ],
 "metadata": {
  "kernelspec": {
   "display_name": "Python 3",
   "language": "python",
   "name": "python3"
  },
  "language_info": {
   "codemirror_mode": {
    "name": "ipython",
    "version": 3
   },
   "file_extension": ".py",
   "mimetype": "text/x-python",
   "name": "python",
   "nbconvert_exporter": "python",
   "pygments_lexer": "ipython3",
   "version": "3.6.9"
  }
 },
 "nbformat": 4,
 "nbformat_minor": 4
}
