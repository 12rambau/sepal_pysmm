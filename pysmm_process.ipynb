{
 "cells": [
  {
   "cell_type": "code",
   "execution_count": 1,
   "metadata": {},
   "outputs": [],
   "source": [
    "import os\n",
    "\n",
    "import ee\n",
    "import ipywidgets as widgets\n",
    "\n",
    "from ipywidgets import HBox, Label, interact, fixed, VBox, HTML, interactive\n",
    "from ipyleaflet import basemaps\n",
    "\n",
    "from scripts.run_pysmm import run_pysmm"
   ]
  },
  {
   "cell_type": "code",
   "execution_count": 2,
   "metadata": {},
   "outputs": [],
   "source": [
    "try:\n",
    "    import geemap\n",
    "except ImportError:\n",
    "    !pip3 install geemap -U --user -q\n",
    "    \n",
    "try:\n",
    "    import tqdm\n",
    "except ImportError:\n",
    "    !pip3 install tqdm -U --user -q"
   ]
  },
  {
   "cell_type": "code",
   "execution_count": 3,
   "metadata": {},
   "outputs": [],
   "source": [
    "ee.Initialize()"
   ]
  },
  {
   "cell_type": "code",
   "execution_count": 4,
   "metadata": {},
   "outputs": [],
   "source": [
    "# Functions\n",
    "\n",
    "def read_field(*args):\n",
    "    id_values_ee = aoi_ee.distinct(column_name.value).aggregate_array(column_name.value).getInfo()\n",
    "    field_name.options = id_values_ee\n",
    "    \n",
    "def on_button_clicked(b):\n",
    "    with output:\n",
    "        button.disabled=True\n",
    "        aoi.disabled=True\n",
    "        example_asset.disabled=True\n",
    "        start(aoi.value)\n",
    "        \n",
    "def add_layer_to_map(column, field):\n",
    "    selected_feature = aoi_ee.filterMetadata(column, 'equals', float(field)).geometry()\n",
    "    mapa.clear_layers()\n",
    "    mapa.add_basemap('HYBRID')\n",
    "    mapa.addLayer(selected_feature, {'color': 'FF0000'})\n",
    "    mapa.centerObject(selected_feature, zoom=6)\n",
    "    \n",
    "def run_single(column, field, aoi, date): \n",
    "    day = [date.day]\n",
    "    month = [date.month]\n",
    "    year = [date.year]\n",
    "    dates_or_series = day, month, year\n",
    "    run_everything(column, field, aoi, dates_or_series)\n",
    "\n",
    "def run_range(column, field, aoi, ini_date, end_date):\n",
    "\n",
    "    days = [ini_date.day, end_date.day]\n",
    "    months = [ini_date.month, end_date.month]\n",
    "    years = [ini_date.year, end_date.year]\n",
    "    dates_or_series = days, months, years\n",
    "    run_everything(column, field, aoi, dates_or_series)\n",
    "\n",
    "def run_all_time(column, field, aoi):\n",
    "    run_everything(column, field, aoi)\n",
    "\n",
    "def run_everything(column, field, aoi, dates_or_series=False):\n",
    "\n",
    "    days, months, years = False, False, False\n",
    "    \n",
    "    if dates_or_series is not False:\n",
    "        days, months, years = dates_or_series\n",
    "    \n",
    "    attribute = [aoi, field, column]\n",
    "    \n",
    "    print(f'Using the feature: {field} and the aoi: \"{aoi}\"')\n",
    "    print('Processing soil moisture maps. This takes a long time')\n",
    "    run_path = f'{os.getcwd()}/scripts/run_pysmm.py'\n",
    "    run_pysmm(str(years), str(months), str(days), str(attribute))\n",
    "    print('done!')\n",
    "\n",
    "def start(aoi):\n",
    "    global mapa\n",
    "    mapa = geemap.Map()\n",
    "    mapa.clear_layers()\n",
    "    mapa.clear_controls()\n",
    "    mapa.add_basemap('HYBRID')\n",
    "    mapa.layout.height='200px'\n",
    "    display(mapa)\n",
    "    \n",
    "    global aoi_ee\n",
    "    aoi_ee = ee.FeatureCollection(aoi)\n",
    "    col_ee = ee.Feature(aoi_ee.first()).propertyNames().getInfo()\n",
    "    column_name.options = col_ee\n",
    "    column_name.observe(read_field)\n",
    "\n",
    "    _ = interactive(add_layer_to_map, column=column_name, field=field_name)\n",
    "    @interact\n",
    "    def select_dates(date=dates):\n",
    "        \n",
    "        date = dates.value\n",
    "        kwargs = {\n",
    "            'column':column_name, \n",
    "            'field':field_name, \n",
    "            'aoi':fixed(aoi)\n",
    "        }\n",
    "        if date == 'Single date':\n",
    "            kwargs['date'] = unique_date\n",
    "            w = interactive(run_single, {'manual':True}, **kwargs)\n",
    "            w.children[3].description = 'Run single date'\n",
    "            display(w)\n",
    "            \n",
    "        elif date == 'Range':\n",
    "            kwargs['ini_date'] = ini_date\n",
    "            kwargs['end_date'] = end_date\n",
    "            w = interactive(run_range, {'manual':True}, **kwargs)\n",
    "            w.children[4].description = 'Run range'\n",
    "            display(w)\n",
    "            \n",
    "        else:\n",
    "            w = interactive(run_all_time, {'manual':True}, **kwargs)\n",
    "            w.children[2].description = 'Run entire series'\n",
    "            display(w)\n"
   ]
  },
  {
   "cell_type": "code",
   "execution_count": 5,
   "metadata": {},
   "outputs": [],
   "source": [
    "# Widgets\n",
    "\n",
    "dates = widgets.ToggleButtons(\n",
    "    options=['Single date', 'Range', 'All time series'],\n",
    "    description='Dates:',\n",
    "    disabled=False\n",
    ")\n",
    "\n",
    "unique_date = widgets.DatePicker(\n",
    "    description='Date',\n",
    "    disabled=False\n",
    ")\n",
    "\n",
    "ini_date = widgets.DatePicker(\n",
    "    description='Start date',\n",
    "    disabled=False\n",
    ")\n",
    "\n",
    "end_date = widgets.DatePicker(\n",
    "    description='End date',\n",
    "    disabled=False\n",
    ")\n",
    "\n",
    "button = widgets.Button(\n",
    "    description=\"Use this asset!\"\n",
    ")\n",
    "\n",
    "output = widgets.Output()\n",
    "\n",
    "aoi =  widgets.Text(\n",
    "    value='',\n",
    "    placeholder='Enter your asset ID here',\n",
    ")\n",
    "\n",
    "styles = \"\"\"\n",
    "<style>\n",
    "div.output_stderr {\n",
    "    background-color:none;\n",
    "}\n",
    "</style> \"\"\"\n",
    "\n",
    "example_asset = widgets.Checkbox(\n",
    "    value=False,\n",
    "    description='Use example AOI',\n",
    "    indent=False\n",
    ")\n",
    "\n",
    "column_name = widgets.Dropdown(description='Column: ')\n",
    "field_name = widgets.Dropdown(description='Field: ')"
   ]
  },
  {
   "cell_type": "code",
   "execution_count": 6,
   "metadata": {
    "scrolled": true
   },
   "outputs": [],
   "source": [
    "def asset_value(example_asset):\n",
    "    if example_asset == True:\n",
    "        aoi.value='users/dafguerrerom/ReducedAreas_107PHU'\n",
    "    else:\n",
    "        aoi.value=''\n",
    "        \n",
    "w = interactive(asset_value, example_asset=example_asset)"
   ]
  },
  {
   "cell_type": "code",
   "execution_count": 7,
   "metadata": {
    "pixiedust": {
     "displayParams": {}
    },
    "scrolled": false
   },
   "outputs": [
    {
     "data": {
      "application/vnd.jupyter.widget-view+json": {
       "model_id": "e0e067b6d4324737a94e654b0498ace1",
       "version_major": 2,
       "version_minor": 0
      },
      "text/plain": [
       "HTML(value='\\n<style>\\ndiv.output_stderr {\\n    background-color:none;\\n}\\n</style> ')"
      ]
     },
     "metadata": {},
     "output_type": "display_data"
    },
    {
     "data": {
      "application/vnd.jupyter.widget-view+json": {
       "model_id": "ca4ed3b153e54b3e8869fb28bb685b6b",
       "version_major": 2,
       "version_minor": 0
      },
      "text/plain": [
       "HBox(children=(HBox(children=(Label(value='Google Earth Engine asset ID: '), Text(value='', placeholder='Enter…"
      ]
     },
     "metadata": {},
     "output_type": "display_data"
    },
    {
     "data": {
      "application/vnd.jupyter.widget-view+json": {
       "model_id": "708591de345746d4bc8495c9333da499",
       "version_major": 2,
       "version_minor": 0
      },
      "text/plain": [
       "HBox(children=(Checkbox(value=False, description='Use example AOI', indent=False),))"
      ]
     },
     "metadata": {},
     "output_type": "display_data"
    },
    {
     "data": {
      "application/vnd.jupyter.widget-view+json": {
       "model_id": "0181a202eead4086bca23ae76c4e9c12",
       "version_major": 2,
       "version_minor": 0
      },
      "text/plain": [
       "Output()"
      ]
     },
     "metadata": {},
     "output_type": "display_data"
    }
   ],
   "source": [
    "# Run\n",
    "display(HTML(styles))\n",
    "ui1 = HBox([Label('Google Earth Engine asset ID: '), aoi])\n",
    "button.on_click(on_button_clicked)\n",
    "display(HBox([ui1, button]))\n",
    "display(HBox([example_asset]))\n",
    "display(output)"
   ]
  }
 ],
 "metadata": {
  "kernelspec": {
   "display_name": "Python 3",
   "language": "python",
   "name": "python3"
  },
  "language_info": {
   "codemirror_mode": {
    "name": "ipython",
    "version": 3
   },
   "file_extension": ".py",
   "mimetype": "text/x-python",
   "name": "python",
   "nbconvert_exporter": "python",
   "pygments_lexer": "ipython3",
   "version": "3.6.9"
  }
 },
 "nbformat": 4,
 "nbformat_minor": 4
}
