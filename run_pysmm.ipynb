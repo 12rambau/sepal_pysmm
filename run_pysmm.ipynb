{
 "cells": [
  {
   "cell_type": "markdown",
   "metadata": {},
   "source": [
    "# Soil moisture mapping module"
   ]
  },
  {
   "cell_type": "code",
   "execution_count": 1,
   "metadata": {
    "scrolled": true
   },
   "outputs": [
    {
     "data": {
      "text/html": [
       "<script>\n",
       "code_show=true; \n",
       "function code_toggle() {\n",
       " if (code_show){\n",
       " $('div.input').hide();\n",
       " } else {\n",
       " $('div.input').show();\n",
       " }\n",
       " code_show = !code_show\n",
       "} \n",
       "$( document ).ready(code_toggle);\n",
       "</script>\n",
       "<form action=\"javascript:code_toggle()\"><input type=\"submit\" value=\"Click here to toggle on/off the raw code.\"></form>"
      ],
      "text/plain": [
       "<IPython.core.display.HTML object>"
      ]
     },
     "execution_count": 1,
     "metadata": {},
     "output_type": "execute_result"
    }
   ],
   "source": [
    "#set user libraries\n",
    "import ipywidgets as widgets\n",
    "from IPython.display import display, HTML, clear_output, Image\n",
    "from ipywidgets import HBox, Label\n",
    "import subprocess\n",
    "import getpass\n",
    "import os\n",
    "import sys\n",
    "import ee\n",
    "import itertools\n",
    "from IPython.core.display import HTML \n",
    "ee.Initialize()\n",
    "\n",
    "HTML('''<script>\n",
    "code_show=true; \n",
    "function code_toggle() {\n",
    " if (code_show){\n",
    " $('div.input').hide();\n",
    " } else {\n",
    " $('div.input').show();\n",
    " }\n",
    " code_show = !code_show\n",
    "} \n",
    "$( document ).ready(code_toggle);\n",
    "</script>\n",
    "<form action=\"javascript:code_toggle()\"><input type=\"submit\" value=\"Click here to toggle on/off the raw code.\"></form>''')\n",
    "\n"
   ]
  },
  {
   "cell_type": "markdown",
   "metadata": {},
   "source": [
    "# Introduction"
   ]
  },
  {
   "cell_type": "code",
   "execution_count": 2,
   "metadata": {
    "scrolled": true
   },
   "outputs": [
    {
     "name": "stdout",
     "output_type": "stream",
     "text": [
      "Welcome dguerrero!, run this application to create soil moisture maps from Sentinel 1 imagery.\n"
     ]
    }
   ],
   "source": [
    "user = getpass.getuser()\n",
    "print(f\"Welcome {user}!, run this application to create soil moisture maps from Sentinel 1 imagery.\")"
   ]
  },
  {
   "cell_type": "markdown",
   "metadata": {},
   "source": [
    "# Set user variables"
   ]
  },
  {
   "cell_type": "markdown",
   "metadata": {},
   "source": [
    "## Define the area of interest\n",
    "### Provide the link to a Google Earth Engine asset and define the column name and value to select"
   ]
  },
  {
   "cell_type": "code",
   "execution_count": 3,
   "metadata": {},
   "outputs": [
    {
     "data": {
      "application/vnd.jupyter.widget-view+json": {
       "model_id": "c53f3ce82fac447eb01771dd08f37303",
       "version_major": 2,
       "version_minor": 0
      },
      "text/plain": [
       "HBox(children=(Label(value='Google Earth Engine asset ID: '), Text(value='users/yelenafinegold/107_phu_merged'…"
      ]
     },
     "metadata": {},
     "output_type": "display_data"
    }
   ],
   "source": [
    "aoi =  widgets.Text(\n",
    "    value='users/yelenafinegold/107_phu_merged',\n",
    "    placeholder='Enter your asset ID here',\n",
    "    disabled=False\n",
    ")\n",
    "ui1 = HBox([Label('Google Earth Engine asset ID: '),aoi])\n",
    "display(ui1)"
   ]
  },
  {
   "cell_type": "code",
   "execution_count": 4,
   "metadata": {
    "scrolled": true
   },
   "outputs": [
    {
     "data": {
      "application/vnd.jupyter.widget-view+json": {
       "model_id": "396d96be8a994464aae0a5d8d47c7dab",
       "version_major": 2,
       "version_minor": 0
      },
      "text/plain": [
       "HBox(children=(Label(value='Column name: '), Select(index=1, options=('system:index', 'id'), value='id')))"
      ]
     },
     "metadata": {},
     "output_type": "display_data"
    }
   ],
   "source": [
    "aoi_ee = ee.FeatureCollection(aoi.value)\n",
    "col_ee = ee.Feature(aoi_ee.first()).propertyNames().getInfo()\n",
    "\n",
    "column_name =  widgets.Select(\n",
    "    value='id',\n",
    "    options=col_ee,\n",
    "    placeholder='column name from the GEE asset',\n",
    "    disabled=False\n",
    ")\n",
    "ui2 = HBox([Label('Column name: '),column_name])\n",
    "display(ui2)"
   ]
  },
  {
   "cell_type": "code",
   "execution_count": 5,
   "metadata": {
    "scrolled": false
   },
   "outputs": [
    {
     "data": {
      "application/vnd.jupyter.widget-view+json": {
       "model_id": "26fa66b9d0ec4c2c985475df068ceef1",
       "version_major": 2,
       "version_minor": 0
      },
      "text/plain": [
       "HBox(children=(Label(value='Column value: '), Select(options=(1114, 1115, 1116, 1117, 1118, 1119, 1120, 1111, …"
      ]
     },
     "metadata": {},
     "output_type": "display_data"
    }
   ],
   "source": [
    "id_values_ee = aoi_ee.distinct(column_name.value).aggregate_array(column_name.value).getInfo()\n",
    "column_value = widgets.Select(\n",
    "    options=id_values_ee,\n",
    "    placeholder='column value from the GEE asset',\n",
    "    disabled=False\n",
    ")\n",
    "ui3 = HBox([Label('Column value: '),column_value])\n",
    "display(ui3)\n"
   ]
  },
  {
   "cell_type": "code",
   "execution_count": 6,
   "metadata": {
    "scrolled": true
   },
   "outputs": [
    {
     "data": {
      "application/vnd.jupyter.widget-view+json": {
       "model_id": "6c43eb43a7324f979693a91d86a887eb",
       "version_major": 2,
       "version_minor": 0
      },
      "text/plain": [
       "SelectMultiple(description='Year', index=(1, 2, 3, 4, 5), options=(2014, 2015, 2016, 2017, 2018, 2019), value=…"
      ]
     },
     "metadata": {},
     "output_type": "display_data"
    },
    {
     "data": {
      "application/vnd.jupyter.widget-view+json": {
       "model_id": "fe17bb7919a84d5c92f32240b32fc33d",
       "version_major": 2,
       "version_minor": 0
      },
      "text/plain": [
       "SelectMultiple(description='Month', index=(3, 9), options=(('January', 1), ('February', 2), ('March', 3), ('Ap…"
      ]
     },
     "metadata": {},
     "output_type": "display_data"
    },
    {
     "data": {
      "application/vnd.jupyter.widget-view+json": {
       "model_id": "57d192200e6940f896d4d04ec3304520",
       "version_major": 2,
       "version_minor": 0
      },
      "text/plain": [
       "SelectMultiple(description='Day', index=(0,), options=(1, 2, 3, 4, 5, 6, 7, 8, 9, 10, 11, 12, 13, 14, 15, 16, …"
      ]
     },
     "metadata": {},
     "output_type": "display_data"
    }
   ],
   "source": [
    "# Modify the Year, Month, and Day parameters as desired\n",
    "year = widgets.SelectMultiple(\n",
    "    options=range(2014,2020),\n",
    "    value=[2015,2016,2017,2018,2019],\n",
    "    description='Year',\n",
    "    disabled=False\n",
    ")\n",
    "\n",
    "display(year)\n",
    "\n",
    "month = widgets.SelectMultiple(\n",
    "    options=[('January',1),('February',2),('March',3),('April',4),('May',5),\n",
    "             ('June',6),('July',7),('August',8),('September',9),('October',10),\n",
    "             ('November',11),('December',12)\n",
    "    ],\n",
    "    value=[4,10],\n",
    "    description='Month',\n",
    "    disabled=False\n",
    ")\n",
    "\n",
    "display(month)\n",
    "\n",
    "day = widgets.SelectMultiple(\n",
    "    options=range(1,32),\n",
    "    value=[1],\n",
    "    description='Day',\n",
    "    disabled=False\n",
    ")\n",
    "\n",
    "display(day)\n"
   ]
  },
  {
   "cell_type": "markdown",
   "metadata": {},
   "source": [
    "# Run the PYSMM code for a specified AOI - will iterate over all combinations of Year / Month / Day sequentially."
   ]
  },
  {
   "cell_type": "code",
   "execution_count": 11,
   "metadata": {
    "scrolled": true
   },
   "outputs": [
    {
     "name": "stdout",
     "output_type": "stream",
     "text": [
      "Asset: users/yelenafinegold/107_phu_merged\n",
      "Column: id\n",
      "Column value: 1120\n",
      "Years: [2015, 2016, 2017, 2018, 2019]\n",
      "Months: [4, 10]\n",
      "Days: [1]\n"
     ]
    },
    {
     "data": {
      "application/vnd.jupyter.widget-view+json": {
       "model_id": "3e29b0f530e1465fbad597a18bc8dd8c",
       "version_major": 2,
       "version_minor": 0
      },
      "text/plain": [
       "VBox(children=(Button(description='Run SMM', style=ButtonStyle()), Output()))"
      ]
     },
     "metadata": {},
     "output_type": "display_data"
    }
   ],
   "source": [
    "study_area = aoi_ee.filterMetadata(column_name.value,'equals', float(column_value.value)).geometry().bounds().coordinates()\n",
    "coords = study_area.get(0).getInfo()\n",
    "\n",
    "ll = coords[0]\n",
    "ur = coords[2]\n",
    "minlon = ll[0]\n",
    "minlat = ll[1]\n",
    "maxlon = ur[0]\n",
    "maxlat = ur[1]\n",
    "button = widgets.Button(description='Run SMM')\n",
    "# button, output, function and linkage\n",
    "outt = widgets.Output()\n",
    "\n",
    "year1 = list(year.value)\n",
    "month1 = list(month.value)\n",
    "day1 = list(day.value)\n",
    "attribute_value = column_value.value\n",
    "\n",
    "print(f'Asset: {aoi.value}')\n",
    "print(f'Column: {column_name.value}')\n",
    "print(f'Column value: {attribute_value}')\n",
    "print(f'Years: {year1}' )\n",
    "print(f'Months: {month1}')\n",
    "print(f'Days: {day1}' )\n",
    "\n",
    "def on_button_clicked(b):\n",
    "    with outt:\n",
    "        clear_output()\n",
    "        print('Processing and downloading soil moisture maps. This takes a long time')\n",
    "        print(f'Using the feature: {column_value.value} and the aoi: \"{aoi.value}\"')\n",
    "#         !mv ./nohup.out ./nohup_backup.out\n",
    "        py = sys.executable\n",
    "        !bash ~/sepal_pysmm/scripts/run_pysmm.sh $py \"$year1\" \"$month1\" \"$day1\" $minlon $minlat $maxlon $maxlat $attribute_value\n",
    "        print('done!')\n",
    "        \n",
    "button.on_click(on_button_clicked)\n",
    "widgets.VBox([button,outt])\n"
   ]
  }
 ],
 "metadata": {
  "celltoolbar": "Raw Cell Format",
  "kernelspec": {
   "display_name": "environment",
   "language": "python",
   "name": "environment"
  },
  "language_info": {
   "codemirror_mode": {
    "name": "ipython",
    "version": 3
   },
   "file_extension": ".py",
   "mimetype": "text/x-python",
   "name": "python",
   "nbconvert_exporter": "python",
   "pygments_lexer": "ipython3",
   "version": "3.6.9"
  }
 },
 "nbformat": 4,
 "nbformat_minor": 4
}
