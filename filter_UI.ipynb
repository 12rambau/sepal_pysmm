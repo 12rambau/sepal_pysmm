{
 "cells": [
  {
   "cell_type": "code",
   "execution_count": 2,
   "metadata": {},
   "outputs": [
    {
     "data": {
      "application/vnd.jupyter.widget-view+json": {
       "model_id": "b757ce2b08f4414d99e4ad74611e3862",
       "version_major": 2,
       "version_minor": 0
      },
      "text/plain": [
       "HTML(value='\\n<style>\\n.leaflet-pane {\\n    z-index : 6 !important;\\n}\\n.leaflet-top, .leaflet-bottom {\\n    z…"
      ]
     },
     "metadata": {},
     "output_type": "display_data"
    }
   ],
   "source": [
    "import getpass\n",
    "import os\n",
    "\n",
    "from sepal_ui.tiles import dateselector, statistics, pathselector, closingfilter\n",
    "from sepal_ui import widgetFactory as wf"
   ]
  },
  {
   "cell_type": "code",
   "execution_count": 3,
   "metadata": {},
   "outputs": [],
   "source": [
    "user = getpass.getuser()\n",
    "RAW_PATH = f'/home/{user}/pysmm_downloads/0_raw/'\n",
    "if not os.path.exists(RAW_PATH):\n",
    "    os.makedirs(RAW_PATH)"
   ]
  },
  {
   "cell_type": "code",
   "execution_count": 4,
   "metadata": {},
   "outputs": [],
   "source": [
    "path_selector = pathselector.PathSelector(RAW_PATH)"
   ]
  },
  {
   "cell_type": "code",
   "execution_count": 5,
   "metadata": {},
   "outputs": [],
   "source": [
    "filter_content = closingfilter.close_filter_tile(path_selector)"
   ]
  },
  {
   "cell_type": "code",
   "execution_count": 6,
   "metadata": {},
   "outputs": [],
   "source": [
    "filter_tile = wf.Tile('filter_tile', 'Closing filter', inputs=[filter_content])"
   ]
  },
  {
   "cell_type": "code",
   "execution_count": 7,
   "metadata": {
    "scrolled": false
   },
   "outputs": [
    {
     "data": {
      "application/vnd.jupyter.widget-view+json": {
       "model_id": "6f85492b29934ab4baedea3a82136315",
       "version_major": 2,
       "version_minor": 0
      },
      "text/plain": [
       "Layout(align_center=True, children=[Card(children=[Html(children=['Closing filter'], tag='h2'), Flex(children=…"
      ]
     },
     "metadata": {},
     "output_type": "display_data"
    }
   ],
   "source": [
    "filter_tile"
   ]
  }
 ],
 "metadata": {
  "kernelspec": {
   "display_name": "Python 3",
   "language": "python",
   "name": "python3"
  },
  "language_info": {
   "codemirror_mode": {
    "name": "ipython",
    "version": 3
   },
   "file_extension": ".py",
   "mimetype": "text/x-python",
   "name": "python",
   "nbconvert_exporter": "python",
   "pygments_lexer": "ipython3",
   "version": "3.6.9"
  }
 },
 "nbformat": 4,
 "nbformat_minor": 4
}
