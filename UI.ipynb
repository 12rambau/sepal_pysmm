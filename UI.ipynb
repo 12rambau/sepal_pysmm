{
 "cells": [
  {
   "cell_type": "markdown",
   "metadata": {},
   "source": [
    "<center><h1>Soil moisture mapping module</h1></center>\n",
    "\n",
    "This module runs PYSMM, a python package for creating soil moisture maps. The module can be used to create a time series of soil moisture maps. The estimation of soil moisture is based on a Support-Vector-Regression machine learning approach, training the model based on in-situ data from the International Soil Moisture Network (ISMN) on cross-calibration between Sentinel-1 and Global Land Data Assimilation System (GLDAS). More information about PYSMM can be found on https://pysmm.readthedocs.io/en/latest/\n",
    "\n",
    "\n",
    "The PYSMM package was developed by Felix Greifeneder with modification from the SEPAL team. "
   ]
  },
  {
   "cell_type": "code",
   "execution_count": 1,
   "metadata": {
    "scrolled": false
   },
   "outputs": [
    {
     "data": {
      "application/vnd.jupyter.widget-view+json": {
       "model_id": "5d77e5b2c59e499e928153aa5c89870e",
       "version_major": 2,
       "version_minor": 0
      },
      "text/plain": [
       "HBox(children=(HBox(children=(Label(value='Google Earth Engine asset ID: '), Text(value='users/yelenafinegold/…"
      ]
     },
     "metadata": {},
     "output_type": "display_data"
    },
    {
     "data": {
      "application/vnd.jupyter.widget-view+json": {
       "model_id": "e9a4de02ead945b483fd028c642c53e7",
       "version_major": 2,
       "version_minor": 0
      },
      "text/plain": [
       "Output()"
      ]
     },
     "metadata": {},
     "output_type": "display_data"
    }
   ],
   "source": [
    "%run '~/shared/notebooks/sepal_pysmm/pysmm_process.ipynb'"
   ]
  },
  {
   "cell_type": "markdown",
   "metadata": {},
   "source": [
    "<center><h1>Postprocess</h1></center>\n",
    "\n",
    "This tool reads all the data in the selected folder and applies the ORFEO tool box grayscale morphological operations on all the soil moisture maps. The grayscale morphological operation is a type of image filter that corrects for noise and missing data in the image. The filtered data is called 'closed'.\n"
   ]
  },
  {
   "cell_type": "code",
   "execution_count": 2,
   "metadata": {
    "scrolled": false
   },
   "outputs": [
    {
     "data": {
      "application/vnd.jupyter.widget-view+json": {
       "model_id": "e65e11bdebcd43ab9f7b70605449310f",
       "version_major": 2,
       "version_minor": 0
      },
      "text/plain": [
       "HBox(children=(Label(value='Select the folder you want process:'), Select(options=('103_phu_merged', '107_phu_…"
      ]
     },
     "metadata": {},
     "output_type": "display_data"
    },
    {
     "data": {
      "application/vnd.jupyter.widget-view+json": {
       "model_id": "9791abb2b659435eb08e50bd22dee681",
       "version_major": 2,
       "version_minor": 0
      },
      "text/plain": [
       "HBox(children=(Button(button_style='info', description='Process the folder', icon='check', style=ButtonStyle()…"
      ]
     },
     "metadata": {},
     "output_type": "display_data"
    },
    {
     "data": {
      "application/vnd.jupyter.widget-view+json": {
       "model_id": "d0c75c83258d4db7917e34b24b10a7ca",
       "version_major": 2,
       "version_minor": 0
      },
      "text/plain": [
       "Output()"
      ]
     },
     "metadata": {},
     "output_type": "display_data"
    }
   ],
   "source": [
    "%run '~/shared/notebooks/sepal_pysmm/pysmm_postprocess.ipynb'"
   ]
  }
 ],
 "metadata": {
  "kernelspec": {
   "display_name": "Python 3",
   "language": "python",
   "name": "python3"
  },
  "language_info": {
   "codemirror_mode": {
    "name": "ipython",
    "version": 3
   },
   "file_extension": ".py",
   "mimetype": "text/x-python",
   "name": "python",
   "nbconvert_exporter": "python",
   "pygments_lexer": "ipython3",
   "version": "3.6.9"
  }
 },
 "nbformat": 4,
 "nbformat_minor": 4
}
