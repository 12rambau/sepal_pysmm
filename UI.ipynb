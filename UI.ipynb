{
 "cells": [
  {
   "cell_type": "markdown",
   "metadata": {},
   "source": [
    "# Soil moisture mapping module\n",
    "\n",
    "This module runs PYSMM, a python package for creating soil moisture maps. The module can be used to create a time series of soil moisture maps. The estimation of soil moisture is based on a Support-Vector-Regression machine learning approach, training the model based on in-situ data from the International Soil Moisture Network (ISMN) on cross-calibration between Sentinel-1 and Global Land Data Assimilation System (GLDAS). More information about PYSMM can be found on https://pysmm.readthedocs.io/en/latest/\n",
    "\n",
    "\n",
    "The PYSMM package was developed by Felix Greifeneder with modification from the SEPAL team. "
   ]
  },
  {
   "cell_type": "code",
   "execution_count": null,
   "metadata": {
    "scrolled": false
   },
   "outputs": [],
   "source": [
    "%run '/home/dguerrero/sepal_pysmm/pysmm_process.ipynb'"
   ]
  }
 ],
 "metadata": {
  "kernelspec": {
   "display_name": "Python 3",
   "language": "python",
   "name": "python3"
  },
  "language_info": {
   "codemirror_mode": {
    "name": "ipython",
    "version": 3
   },
   "file_extension": ".py",
   "mimetype": "text/x-python",
   "name": "python",
   "nbconvert_exporter": "python",
   "pygments_lexer": "ipython3",
   "version": "3.6.9"
  }
 },
 "nbformat": 4,
 "nbformat_minor": 4
}
