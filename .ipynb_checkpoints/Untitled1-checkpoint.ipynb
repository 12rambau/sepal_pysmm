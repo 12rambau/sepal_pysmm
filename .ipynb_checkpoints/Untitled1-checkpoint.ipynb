{
 "cells": [
  {
   "cell_type": "code",
   "execution_count": 14,
   "metadata": {},
   "outputs": [],
   "source": [
    "\n",
    "import os\n",
    "import ipyvuetify as v\n",
    "from traitlets import HasTraits, Unicode, List, observe"
   ]
  },
  {
   "cell_type": "code",
   "execution_count": 54,
   "metadata": {},
   "outputs": [],
   "source": [
    "class PathSelector(v.Container, HasTraits):\n",
    "    \n",
    "    column = Unicode().tag(sync=True)\n",
    "    field = Unicode().tag(sync=True)\n",
    "    \n",
    "    def __init__(self, raw_path='/home/', file_type='.tif', **kwargs):\n",
    "\n",
    "        self.raw_path = raw_path\n",
    "        \n",
    "        super().__init__(**kwargs)\n",
    "\n",
    "        self.align_center=True\n",
    "        self.children = [v.Row(children=[\n",
    "            v.Col(\n",
    "                children=[self._column_widget()]\n",
    "            ),\n",
    "            v.Col(\n",
    "                children=[self._field_widget()]\n",
    "            ),\n",
    "        ])]\n",
    "\n",
    "    def return_paths(self, column=\"\"):\n",
    "        \n",
    "        \"\"\" Create a list of folders in a given path\n",
    "        skipping those with begin with '.' or are empty\n",
    "\n",
    "        \"\"\"\n",
    "        search_path = os.path.join(self.raw_path, column)\n",
    "        paths = [folder for folder in os.listdir(search_path) \n",
    "                 if os.path.isdir(os.path.join(search_path, folder)) and not folder.startswith('.') \n",
    "                 and len(os.listdir(os.path.join(search_path, folder))) != 0\n",
    "        ]\n",
    "        paths.sort()\n",
    "\n",
    "        return paths\n",
    "    \n",
    "    @observe('column')\n",
    "    def _on_column(self, change):\n",
    "        options = self.return_paths(column=self.column)\n",
    "        self.children[0].children[1].children[0].items=options\n",
    "\n",
    "    def _field_widget(self):\n",
    "        \n",
    "        w_field = v.Select(\n",
    "            v_model=None,\n",
    "            label='Select field...')\n",
    "        \n",
    "        def on_change(change):\n",
    "            self.field = change['new']\n",
    "\n",
    "        w_field.observe(on_change, 'v_model')\n",
    "        \n",
    "        return w_field\n",
    "\n",
    "    def _column_widget(self):\n",
    "\n",
    "        w_column = v.Select(\n",
    "            v_model=None, \n",
    "            label='Select column...',\n",
    "            items=self.return_paths(),\n",
    "        )\n",
    "\n",
    "        def on_change(change):\n",
    "            self.column = change['new']\n",
    "\n",
    "        w_column.observe(on_change, 'v_model')\n",
    "\n",
    "        return w_column\n",
    "    \n",
    "    def get_current_path(self):\n",
    "        \n",
    "        current_path = os.path.join(self.raw_path,\n",
    "                                    self.column, \n",
    "                                   self.field)\n",
    "        return current_path\n",
    "\n",
    "    def get_column_path(self):\n",
    "        \n",
    "        column_path = os.path.join(self.raw_path,\n",
    "                                    self.column)\n",
    "        return column_path"
   ]
  },
  {
   "cell_type": "code",
   "execution_count": 55,
   "metadata": {},
   "outputs": [],
   "source": [
    "ps = PathSelector()"
   ]
  },
  {
   "cell_type": "code",
   "execution_count": 56,
   "metadata": {},
   "outputs": [
    {
     "data": {
      "application/vnd.jupyter.widget-view+json": {
       "model_id": "d736672e11004bd0bc03ff0e62663416",
       "version_major": 2,
       "version_minor": 0
      },
      "text/plain": [
       "PathSelector(children=[Row(children=[Col(children=[Select(items=['dguerrero', 'shiny'], label='Select column..…"
      ]
     },
     "metadata": {},
     "output_type": "display_data"
    }
   ],
   "source": [
    "ps"
   ]
  }
 ],
 "metadata": {
  "kernelspec": {
   "display_name": "Python 3",
   "language": "python",
   "name": "python3"
  },
  "language_info": {
   "codemirror_mode": {
    "name": "ipython",
    "version": 3
   },
   "file_extension": ".py",
   "mimetype": "text/x-python",
   "name": "python",
   "nbconvert_exporter": "python",
   "pygments_lexer": "ipython3",
   "version": "3.6.9"
  }
 },
 "nbformat": 4,
 "nbformat_minor": 4
}
