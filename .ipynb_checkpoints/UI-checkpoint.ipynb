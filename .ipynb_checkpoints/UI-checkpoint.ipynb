{
 "cells": [
  {
   "cell_type": "code",
   "execution_count": 1,
   "metadata": {
    "scrolled": true
   },
   "outputs": [],
   "source": [
    "from importlib import reload\n",
    "from sepal_ui import widgetFactory as wf\n",
    "from sepal_ui import widgetBinding as wb"
   ]
  },
  {
   "cell_type": "code",
   "execution_count": 2,
   "metadata": {},
   "outputs": [],
   "source": [
    "fao_appBar, fao_toggleButton = wf.AppBar('PYSMM')\n",
    "fao_footer = wf.Footer('pysmm module')\n"
   ]
  },
  {
   "cell_type": "code",
   "execution_count": 3,
   "metadata": {},
   "outputs": [],
   "source": [
    "%run 'process_UI.ipynb'\n",
    "%run 'download_UI.ipynb'"
   ]
  },
  {
   "cell_type": "code",
   "execution_count": 4,
   "metadata": {},
   "outputs": [],
   "source": [
    "fao_content = [aoi_tile, download_tile]"
   ]
  },
  {
   "cell_type": "code",
   "execution_count": 5,
   "metadata": {},
   "outputs": [],
   "source": [
    "wf.hideCards('aoi_tile', fao_content)"
   ]
  },
  {
   "cell_type": "code",
   "execution_count": 6,
   "metadata": {},
   "outputs": [],
   "source": [
    "#create a drawer \n",
    "item_process = wf.DrawerItem('AOI selection', 'mdi-map-marker-check', card=\"aoi_tile\")\n",
    "item_download = wf.DrawerItem('Download', 'mdi-download', card=\"download_tile\")\n",
    "\n",
    "code_link = 'https://github.com/12rambau/sepal_ui_template'\n",
    "wiki_link = 'https://github.com/12rambau/sepal_ui_template/blob/master/doc/fake_doc.md'\n",
    "issue = 'https://github.com/12rambau/sepal_ui_template/issues/new'\n",
    "\n",
    "items = [item_process, item_download]\n",
    "fao_drawer = wf.NavDrawer(items, code = code_link, wiki = wiki_link, issue = issue)"
   ]
  },
  {
   "cell_type": "code",
   "execution_count": null,
   "metadata": {},
   "outputs": [],
   "source": [
    "#build the app \n",
    "fao_app = wf.App(\n",
    "    tiles=fao_content, \n",
    "    appBar=fao_appBar, \n",
    "    footer=fao_footer, \n",
    "    navDrawer=fao_drawer\n",
    ")[0]"
   ]
  },
  {
   "cell_type": "code",
   "execution_count": null,
   "metadata": {},
   "outputs": [],
   "source": [
    "#bind the components together\n",
    "wb.displayDrawer(fao_drawer, fao_toggleButton) #drawer \n",
    "for item in items:                             #drawer clickable buttons\n",
    "    wb.display_tile(item, fao_content)"
   ]
  },
  {
   "cell_type": "code",
   "execution_count": null,
   "metadata": {},
   "outputs": [],
   "source": [
    "#display the app\n",
    "fao_app"
   ]
  }
 ],
 "metadata": {
  "kernelspec": {
   "display_name": "Python 3",
   "language": "python",
   "name": "python3"
  },
  "language_info": {
   "codemirror_mode": {
    "name": "ipython",
    "version": 3
   },
   "file_extension": ".py",
   "mimetype": "text/x-python",
   "name": "python",
   "nbconvert_exporter": "python",
   "pygments_lexer": "ipython3",
   "version": "3.6.9"
  }
 },
 "nbformat": 4,
 "nbformat_minor": 4
}
