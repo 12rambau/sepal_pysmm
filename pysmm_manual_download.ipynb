{
 "cells": [
  {
   "cell_type": "code",
   "execution_count": 1,
   "metadata": {},
   "outputs": [],
   "source": [
    "import os\n",
    "from ipywidgets import interact, interactive, Layout, HBox, VBox, HTML\n",
    "import ipywidgets as widgets\n",
    "from scripts.ipyfilechooser import FileChooser\n",
    "import getpass"
   ]
  },
  {
   "cell_type": "code",
   "execution_count": 2,
   "metadata": {},
   "outputs": [],
   "source": [
    "def export_images(tasks_file_name, overwrite=False, rmdrive=False):\n",
    "    out_path = os.path.split(tasks_file_name)[0]\n",
    "    \n",
    "    command = f'{os.getcwd()}/scripts/download_to_sepal.py {tasks_file_name} {out_path}'\n",
    "    if overwrite:\n",
    "        command += ' -o'\n",
    "    if rmdrive:\n",
    "        command += ' -rm'\n",
    "    %run $command"
   ]
  },
  {
   "cell_type": "code",
   "execution_count": 3,
   "metadata": {},
   "outputs": [],
   "source": [
    "def run(**args):\n",
    "    tasks_file_name = fc.selected\n",
    "    overwrite = args['overwrite']\n",
    "    rmdrive = args['rmdrive']\n",
    "    if tasks_file_name:\n",
    "        export_images(tasks_file_name, overwrite, rmdrive)\n",
    "    else:\n",
    "        print(f'Please select a task file...')"
   ]
  },
  {
   "cell_type": "code",
   "execution_count": 4,
   "metadata": {
    "scrolled": true
   },
   "outputs": [],
   "source": [
    "def start():\n",
    "    fc.observe(run)\n",
    "    w_run = interactive(run, {'manual':True}, overwrite=w_overwrite, rmdrive=w_rm_gdrive)\n",
    "    w_run_button = w_run.children[-2]\n",
    "    w_run_button.description = 'Download images'\n",
    "    w_run_button.button_style = 'success'\n",
    "    w_run_button.icon = 'check'\n",
    "    display(HTML(html_header))\n",
    "    display(fc)\n",
    "    display(VBox([w_run.children[0], w_run.children[1], w_run_button]))\n",
    "    display(HBox([w_run.children[-1]]))\n",
    "    \n",
    "    "
   ]
  },
  {
   "cell_type": "code",
   "execution_count": 5,
   "metadata": {},
   "outputs": [],
   "source": [
    "w_overwrite = widgets.Checkbox(\n",
    "    value=False,\n",
    "    description='Overwrite SEPAL images',\n",
    "    indent=False,\n",
    "    disabled=False\n",
    ")\n",
    "\n",
    "w_rm_gdrive = widgets.Checkbox(\n",
    "    value=False,\n",
    "    description='Remove Google Drive images',\n",
    "    indent=False,\n",
    "    disabled=False\n",
    ")\n",
    "html_header = \"\"\"\n",
    "<style>\n",
    ".widget-html span {\n",
    "    color:black!important;\n",
    "}\n",
    "div.output_stderr{\n",
    "    color:none;\n",
    "}\n",
    "</style>\n",
    "<center><h1><b>GEE Download Task Module</b></h1></center>\n",
    "<p>With this module you can track and download the images processed into your Google Earth Engine account \n",
    "by providing the 'tasks' text file, the results will be stored directly into your SEPAL account. You can pass\n",
    "any </br>\n",
    "<b>Note that if you check the overwrite and remove options, the result can't be undone.</b>\n",
    "</p>\n",
    "\"\"\""
   ]
  },
  {
   "cell_type": "code",
   "execution_count": 6,
   "metadata": {},
   "outputs": [],
   "source": [
    "user = getpass.getuser()\n",
    "fc = FileChooser(f'/home/{user}/')\n",
    "\n",
    "change_b = fc.children[-1].children[0]\n",
    "change_b.button_style='info'\n",
    "\n",
    "cancel_b = fc.children[-1].children[1]\n",
    "cancel_b.button_style='danger'"
   ]
  },
  {
   "cell_type": "code",
   "execution_count": 7,
   "metadata": {
    "scrolled": false
   },
   "outputs": [
    {
     "data": {
      "application/vnd.jupyter.widget-view+json": {
       "model_id": "f45d2a3009c8472d8e5b25607b214813",
       "version_major": 2,
       "version_minor": 0
      },
      "text/plain": [
       "HTML(value=\"\\n<style>\\n.widget-html span {\\n    color:black!important;\\n}\\ndiv.output_stderr{\\n    color:none;…"
      ]
     },
     "metadata": {},
     "output_type": "display_data"
    },
    {
     "data": {
      "application/vnd.jupyter.widget-view+json": {
       "model_id": "4c832398cdb4413e9ffccc18908e70ec",
       "version_major": 2,
       "version_minor": 0
      },
      "text/plain": [
       "FileChooser(path='/home/dguerrero', filename='', show_hidden='False')"
      ]
     },
     "metadata": {},
     "output_type": "display_data"
    },
    {
     "data": {
      "application/vnd.jupyter.widget-view+json": {
       "model_id": "d8082585c25f418282f0af5c94c4469c",
       "version_major": 2,
       "version_minor": 0
      },
      "text/plain": [
       "VBox(children=(Checkbox(value=False, description='Overwrite SEPAL images', indent=False), Checkbox(value=False…"
      ]
     },
     "metadata": {},
     "output_type": "display_data"
    },
    {
     "data": {
      "application/vnd.jupyter.widget-view+json": {
       "model_id": "534e80b397904f418409daee9963242a",
       "version_major": 2,
       "version_minor": 0
      },
      "text/plain": [
       "HBox(children=(Output(),))"
      ]
     },
     "metadata": {},
     "output_type": "display_data"
    }
   ],
   "source": [
    "start()"
   ]
  },
  {
   "cell_type": "code",
   "execution_count": null,
   "metadata": {},
   "outputs": [],
   "source": []
  }
 ],
 "metadata": {
  "kernelspec": {
   "display_name": "Python 3",
   "language": "python",
   "name": "python3"
  },
  "language_info": {
   "codemirror_mode": {
    "name": "ipython",
    "version": 3
   },
   "file_extension": ".py",
   "mimetype": "text/x-python",
   "name": "python",
   "nbconvert_exporter": "python",
   "pygments_lexer": "ipython3",
   "version": "3.6.9"
  }
 },
 "nbformat": 4,
 "nbformat_minor": 4
}
