{
 "cells": [
  {
   "cell_type": "code",
   "execution_count": 1,
   "metadata": {},
   "outputs": [
    {
     "data": {
      "application/vnd.jupyter.widget-view+json": {
       "model_id": "f3ebc5d644a346cbb02c9e52e508f0ef",
       "version_major": 2,
       "version_minor": 0
      },
      "text/plain": [
       "HTML(value='\\n<style>\\n.leaflet-pane {\\n    z-index : 6 !important;\\n}\\n.leaflet-top, .leaflet-bottom {\\n    z…"
      ]
     },
     "metadata": {},
     "output_type": "display_data"
    }
   ],
   "source": [
    "import os\n",
    "from pathlib import Path\n",
    "from functools import partial\n",
    "\n",
    "from sepal_ui import sepalwidgets as sw\n",
    "from sepal_ui import mapping as sm\n",
    "import ipyvuetify as v"
   ]
  },
  {
   "cell_type": "code",
   "execution_count": 2,
   "metadata": {},
   "outputs": [],
   "source": [
    "# from importlib import reload\n",
    "# sw=reload(sw)\n",
    "# sm=reload(sm)"
   ]
  },
  {
   "cell_type": "code",
   "execution_count": 3,
   "metadata": {},
   "outputs": [],
   "source": [
    "def display_image(widget, event, data, file_chooser, map_, alert):\n",
    "    alert.clear()\n",
    "    image = file_chooser.file\n",
    "    image_path = Path(image)\n",
    "    layer_name = image_path.stem\n",
    "    if os.path.exists(image):\n",
    "        map_.remove_last_layer()\n",
    "        map_.add_raster(image, layer_name=layer_name)\n",
    "    else:\n",
    "        alert.add_msg('Please select a valid image', type_='error')\n",
    "\n",
    "file_chooser = sw.FileInput(extentions=['.tif'])\n",
    "m = sm.SepalMap()\n",
    "m.add_control(m.inspector_control)\n",
    "btn = sw.Btn(text='Display image')\n",
    "alert = sw.Alert()\n",
    "btn.on_event('click', partial(display_image, file_chooser=file_chooser, map_=m, alert=alert))"
   ]
  },
  {
   "cell_type": "code",
   "execution_count": 4,
   "metadata": {},
   "outputs": [],
   "source": [
    "map_content =  v.Layout(\n",
    "    xs12=True,\n",
    "    row=True,\n",
    "    class_=\"ma-5 d-inline\",\n",
    "    children=[\n",
    "        file_chooser, \n",
    "        btn, \n",
    "        alert,\n",
    "        m\n",
    "    ]\n",
    ")"
   ]
  },
  {
   "cell_type": "code",
   "execution_count": 5,
   "metadata": {},
   "outputs": [
    {
     "ename": "NameError",
     "evalue": "name 'wf' is not defined",
     "output_type": "error",
     "traceback": [
      "\u001b[0;31m---------------------------------------------------------------------------\u001b[0m",
      "\u001b[0;31mNameError\u001b[0m                                 Traceback (most recent call last)",
      "\u001b[0;32m<ipython-input-5-e36bb03b6734>\u001b[0m in \u001b[0;36m<module>\u001b[0;34m\u001b[0m\n\u001b[0;32m----> 1\u001b[0;31m \u001b[0mmap_tile\u001b[0m \u001b[0;34m=\u001b[0m \u001b[0mwf\u001b[0m\u001b[0;34m.\u001b[0m\u001b[0mTile\u001b[0m\u001b[0;34m(\u001b[0m\u001b[0;34m'map_tile'\u001b[0m\u001b[0;34m,\u001b[0m \u001b[0;34m'Display images'\u001b[0m\u001b[0;34m,\u001b[0m \u001b[0minputs\u001b[0m\u001b[0;34m=\u001b[0m\u001b[0;34m[\u001b[0m\u001b[0mmap_content\u001b[0m\u001b[0;34m]\u001b[0m\u001b[0;34m)\u001b[0m\u001b[0;34m\u001b[0m\u001b[0;34m\u001b[0m\u001b[0m\n\u001b[0m",
      "\u001b[0;31mNameError\u001b[0m: name 'wf' is not defined"
     ]
    }
   ],
   "source": [
    "map_tile = wf.Tile('map_tile', 'Display images', inputs=[map_content])"
   ]
  },
  {
   "cell_type": "code",
   "execution_count": null,
   "metadata": {},
   "outputs": [],
   "source": [
    "map_tile"
   ]
  }
 ],
 "metadata": {
  "kernelspec": {
   "display_name": "Python 3",
   "language": "python",
   "name": "python3"
  },
  "language_info": {
   "codemirror_mode": {
    "name": "ipython",
    "version": 3
   },
   "file_extension": ".py",
   "mimetype": "text/x-python",
   "name": "python",
   "nbconvert_exporter": "python",
   "pygments_lexer": "ipython3",
   "version": "3.6.9"
  }
 },
 "nbformat": 4,
 "nbformat_minor": 4
}
