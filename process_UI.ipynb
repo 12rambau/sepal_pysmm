{
 "cells": [
  {
   "cell_type": "code",
   "execution_count": 1,
   "metadata": {},
   "outputs": [],
   "source": [
    "from ipywidgets import HTML\n",
    "import ipyvuetify as v\n",
    "\n",
    "from sepal_ui import widgetFactory as wf\n",
    "from sepal_ui import widgetBinding as wb\n",
    "from sepal_ui.tiles import tiles, dateselector\n",
    "from sepal_ui import aoi"
   ]
  },
  {
   "cell_type": "code",
   "execution_count": 2,
   "metadata": {},
   "outputs": [],
   "source": [
    "process_text = HTML(\"\"\"<h1>Soil moisture mapping</h1>\n",
    "</br>\n",
    "<p>This module runs PYSMM, a python package for creating soil moisture maps. The module can be \n",
    "used to create a time series of soil moisture maps. The estimation of soil moisture is based on \n",
    "a Support-Vector-Regression machine learning approach, training the model based on in-situ \n",
    "data from the International Soil Moisture Network (ISMN) on cross-calibration between Sentinel-1 \n",
    "and Global Land Data Assimilation System (GLDAS). More information about PYSMM can be found on \n",
    "<a href='https://pysmm.readthedocs.io/en/latest/'> the docs</a>.</p>\n",
    "<p>To start the process, go through the steps 2 to 4.</p>\n",
    "<br>\n",
    "<p>*The PYSMM package was developed by Felix Greifeneder with modification from the SEPAL team.</p>\n",
    "\n",
    "\"\"\")"
   ]
  },
  {
   "cell_type": "code",
   "execution_count": 3,
   "metadata": {},
   "outputs": [],
   "source": [
    "date_text = HTML(\"\"\"<h1>Date selector</h1>\n",
    "</br>\n",
    "<p>With the following menu you can select the date of the images that you want to run the algorithm, \n",
    "there are three options:</p>\n",
    "<ul>\n",
    "<li><b>All time series</b>: Will search all the avaiable images for the given area.</li>\n",
    "<li><b>Single date</b>: Will search the closes image for the given date and area. </li>\n",
    "<li><b>Range</b>: Will search all the images present in the given date range and area.</li>\n",
    "</ul>\n",
    "\"\"\")"
   ]
  },
  {
   "cell_type": "code",
   "execution_count": 4,
   "metadata": {},
   "outputs": [],
   "source": [
    "start_text = HTML(\"\"\"<h1>Soil Moisture Process</h1>\n",
    "</br>\n",
    "<p>After clicking in the 'Start' button, the availability of Sentinel-1 data is assessed and the command \n",
    "is sent through SEPAL to Google Earth Engine (GEE) to run the classification of soil moisture. This process could \n",
    "take a long time depending on the dimensions of the feature and on the number of the images to be processed.</p>\n",
    "\n",
    "<p>If the selected dates are not available, the system will display a message with the closest images to the input dates.\n",
    "The most recent image available depends on the GLDAS product, which has a delay of 1 to 2 months.</p>\n",
    "<p>The green Processing bar shows the name of the task that is sent to GEE. When the processing reaches 100% all \n",
    "the tasks have been sent to GEE and the classification of soil moisture will continue there.</p>\n",
    "<p>After all the tasks are sent to GEE the module can be closed. The processing will continue uninterrupted in GEE. \n",
    "In GEE the processing can take hours or days depending on the size of the AOI and the date range selected. \"\"\")"
   ]
  },
  {
   "cell_type": "code",
   "execution_count": 5,
   "metadata": {},
   "outputs": [],
   "source": [
    "# The first process is diveded into 3 steps\n",
    "# 1: Aoi selection\n",
    "# 2: Date selection\n",
    "# 3: Run process and display outputs"
   ]
  },
  {
   "cell_type": "code",
   "execution_count": 6,
   "metadata": {},
   "outputs": [],
   "source": [
    "# Step1: Aoi selection\n",
    "aoi_io = aoi.Aoi_IO(asset_id='users/dafguerrerom/ReducedAreas_107PHU')\n",
    "aoi_tile = tiles.aoi_tile(aoi_io, remove_method=['Country boundaries', 'Draw a shape', 'Upload file'])"
   ]
  },
  {
   "cell_type": "code",
   "execution_count": 7,
   "metadata": {},
   "outputs": [],
   "source": [
    "# 2: Date selection\n",
    "date_obj = dateselector.DateSelector()\n",
    "date_tile = dateselector.date_picker_tile(date_obj)"
   ]
  },
  {
   "cell_type": "code",
   "execution_count": 8,
   "metadata": {
    "scrolled": true
   },
   "outputs": [],
   "source": [
    "# 3: Run process and display outputs\n",
    "run_tile = tiles.run_process_tile(aoi_io, date_obj)"
   ]
  },
  {
   "cell_type": "code",
   "execution_count": 9,
   "metadata": {
    "scrolled": false
   },
   "outputs": [],
   "source": [
    "step0_content = v.StepperContent(\n",
    "    key=1,\n",
    "    step=1, \n",
    "    children=[\n",
    "        v.Card(\n",
    "            children=[\n",
    "                process_text,\n",
    "            ]\n",
    "        )\n",
    "        \n",
    "    ]\n",
    ")  \n",
    "\n",
    "step1_content = v.StepperContent(\n",
    "    key=2,\n",
    "    step=2, \n",
    "    children=[\n",
    "        v.Card(\n",
    "            children=[\n",
    "                aoi_tile\n",
    "            ]\n",
    "        )\n",
    "        \n",
    "    ]\n",
    ")  \n",
    "\n",
    "step2_content = v.StepperContent(\n",
    "key=3,\n",
    "step=3, \n",
    "children=[\n",
    "    v.Card(\n",
    "        children=[\n",
    "            date_text,\n",
    "            date_tile\n",
    "        ],\n",
    "        class_=\"mb-12\",\n",
    "    ),\n",
    "]\n",
    ")\n",
    "\n",
    "step3_content = v.StepperContent(\n",
    "key=4,\n",
    "step=4, \n",
    "children=[\n",
    "    v.Card(\n",
    "        children=[\n",
    "            start_text,\n",
    "            run_tile\n",
    "        ],\n",
    "        class_=\"mb-12 pa-5\",\n",
    "    ),\n",
    "]\n",
    ")\n",
    "\n",
    "stepper_children = [\n",
    "    v.StepperStep(\n",
    "        key=1,\n",
    "        complete=False,\n",
    "        step=1,\n",
    "        editable=True,\n",
    "        children=[f\"Introduction\"]\n",
    "    ),\n",
    "    v.Divider(),\n",
    "    v.StepperStep(\n",
    "        key=2,\n",
    "        complete=False,\n",
    "        step=2,\n",
    "        editable=True,\n",
    "        children=[f\"AOI selection\"]\n",
    "    ),\n",
    "    v.Divider(),\n",
    "    v.StepperStep(\n",
    "        key=3,\n",
    "        complete=False,\n",
    "        step=3,\n",
    "        editable=True,\n",
    "        children=[f\"Date selection\"]\n",
    "    ),\n",
    "    v.Divider(),\n",
    "    v.StepperStep(\n",
    "        key=4,\n",
    "        complete=False,\n",
    "        step=4,\n",
    "        editable=True,\n",
    "        children=[f\"Run proces\"]\n",
    "    ),\n",
    "]\n",
    "\n",
    "stepper_header = v.StepperHeader(\n",
    "    children=stepper_children\n",
    ")\n",
    "\n",
    "aoi_content = v.Stepper(\n",
    "         children=[\n",
    "             stepper_header,\n",
    "             v.StepperItems(\n",
    "                 children=[\n",
    "                     step0_content,\n",
    "                     step1_content,\n",
    "                     step2_content,\n",
    "                     step3_content\n",
    "                 ]\n",
    "             )\n",
    "         ]\n",
    ")"
   ]
  },
  {
   "cell_type": "code",
   "execution_count": 10,
   "metadata": {},
   "outputs": [],
   "source": [
    "process_tile = wf.Tile('aoi_tile', 'Parameter selection', inputs=[aoi_content])"
   ]
  },
  {
   "cell_type": "code",
   "execution_count": 17,
   "metadata": {
    "scrolled": false
   },
   "outputs": [
    {
     "data": {
      "application/vnd.jupyter.widget-view+json": {
       "model_id": "1ff0610178e646a7b76dcc0812b59ea7",
       "version_major": 2,
       "version_minor": 0
      },
      "text/plain": [
       "Layout(align_center=True, children=[Card(children=[Html(children=['Parameter selection'], tag='h2'), Flex(chil…"
      ]
     },
     "metadata": {},
     "output_type": "display_data"
    },
    {
     "ename": "RuntimeError",
     "evalue": "No active exception to reraise",
     "output_type": "error",
     "traceback": [
      "\u001b[0;31m---------------------------------------------------------------------------\u001b[0m",
      "\u001b[0;31mRuntimeError\u001b[0m                              Traceback (most recent call last)",
      "\u001b[0;32m~/sepal_pysmm/sepal_ui/widgetBinding.py\u001b[0m in \u001b[0;36mon_change\u001b[0;34m(widget, event, data, obj, attribute, m, dc)\u001b[0m\n\u001b[1;32m    110\u001b[0m         \u001b[0;31m# Given the current aoi attributes, get selected feature.\u001b[0m\u001b[0;34m\u001b[0m\u001b[0;34m\u001b[0m\u001b[0;34m\u001b[0m\u001b[0m\n\u001b[1;32m    111\u001b[0m \u001b[0;34m\u001b[0m\u001b[0m\n\u001b[0;32m--> 112\u001b[0;31m         \u001b[0mselected_feature\u001b[0m \u001b[0;34m=\u001b[0m \u001b[0mobj\u001b[0m\u001b[0;34m.\u001b[0m\u001b[0mget_selected_feature\u001b[0m\u001b[0;34m(\u001b[0m\u001b[0;34m)\u001b[0m\u001b[0;34m\u001b[0m\u001b[0;34m\u001b[0m\u001b[0m\n\u001b[0m\u001b[1;32m    113\u001b[0m         \u001b[0mobj\u001b[0m\u001b[0;34m.\u001b[0m\u001b[0mdisplay_on_map\u001b[0m\u001b[0;34m(\u001b[0m\u001b[0mm\u001b[0m\u001b[0;34m,\u001b[0m \u001b[0mdc\u001b[0m\u001b[0;34m,\u001b[0m \u001b[0mselected_feature\u001b[0m\u001b[0;34m)\u001b[0m\u001b[0;34m\u001b[0m\u001b[0;34m\u001b[0m\u001b[0m\n\u001b[1;32m    114\u001b[0m \u001b[0;34m\u001b[0m\u001b[0m\n",
      "\u001b[0;32m~/sepal_pysmm/sepal_ui/aoi.py\u001b[0m in \u001b[0;36mget_selected_feature\u001b[0;34m(self)\u001b[0m\n\u001b[1;32m     89\u001b[0m         \u001b[0;32mif\u001b[0m \u001b[0;32mnot\u001b[0m \u001b[0mself\u001b[0m\u001b[0;34m.\u001b[0m\u001b[0mcolumn\u001b[0m \u001b[0;32mor\u001b[0m \u001b[0;32mnot\u001b[0m \u001b[0mself\u001b[0m\u001b[0;34m.\u001b[0m\u001b[0mfield\u001b[0m\u001b[0;34m:\u001b[0m\u001b[0;34m\u001b[0m\u001b[0;34m\u001b[0m\u001b[0m\n\u001b[1;32m     90\u001b[0m             \u001b[0mself\u001b[0m\u001b[0;34m.\u001b[0m\u001b[0malert\u001b[0m\u001b[0;34m.\u001b[0m\u001b[0madd_msg\u001b[0m\u001b[0;34m(\u001b[0m\u001b[0;34m'error'\u001b[0m\u001b[0;34m,\u001b[0m \u001b[0;34mf'You must first select a column and a field.'\u001b[0m\u001b[0;34m)\u001b[0m\u001b[0;34m\u001b[0m\u001b[0;34m\u001b[0m\u001b[0m\n\u001b[0;32m---> 91\u001b[0;31m             \u001b[0;32mraise\u001b[0m\u001b[0;34m\u001b[0m\u001b[0;34m\u001b[0m\u001b[0m\n\u001b[0m\u001b[1;32m     92\u001b[0m \u001b[0;34m\u001b[0m\u001b[0m\n\u001b[1;32m     93\u001b[0m         \u001b[0mee_asset\u001b[0m \u001b[0;34m=\u001b[0m \u001b[0mself\u001b[0m\u001b[0;34m.\u001b[0m\u001b[0mget_aoi_ee\u001b[0m\u001b[0;34m(\u001b[0m\u001b[0;34m)\u001b[0m\u001b[0;34m\u001b[0m\u001b[0;34m\u001b[0m\u001b[0m\n",
      "\u001b[0;31mRuntimeError\u001b[0m: No active exception to reraise"
     ]
    }
   ],
   "source": [
    "process_tile"
   ]
  }
 ],
 "metadata": {
  "kernelspec": {
   "display_name": "Python 3",
   "language": "python",
   "name": "python3"
  },
  "language_info": {
   "codemirror_mode": {
    "name": "ipython",
    "version": 3
   },
   "file_extension": ".py",
   "mimetype": "text/x-python",
   "name": "python",
   "nbconvert_exporter": "python",
   "pygments_lexer": "ipython3",
   "version": "3.6.9"
  }
 },
 "nbformat": 4,
 "nbformat_minor": 4
}
