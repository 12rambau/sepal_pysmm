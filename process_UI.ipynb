{
 "cells": [
  {
   "cell_type": "code",
   "execution_count": null,
   "metadata": {},
   "outputs": [],
   "source": [
    "from sepal_ui import widgetFactory as wf\n",
    "from sepal_ui import widgetBinding as wb\n",
    "from sepal_ui.tiles import tiles, dateselector\n",
    "from sepal_ui import aoi\n",
    "import ipyvuetify as v"
   ]
  },
  {
   "cell_type": "code",
   "execution_count": null,
   "metadata": {},
   "outputs": [],
   "source": [
    "from importlib import reload"
   ]
  },
  {
   "cell_type": "code",
   "execution_count": null,
   "metadata": {
    "scrolled": false
   },
   "outputs": [],
   "source": [
    "wf = reload(wf)\n",
    "wb = reload(wb)\n",
    "tiles=reload(tiles)\n",
    "dateselector=reload(dateselector)"
   ]
  },
  {
   "cell_type": "code",
   "execution_count": null,
   "metadata": {},
   "outputs": [],
   "source": [
    "# The first process is diveded into 3 steps\n",
    "# 1: Aoi selection\n",
    "# 2: Date selection\n",
    "# 3: Run process and display outputs"
   ]
  },
  {
   "cell_type": "code",
   "execution_count": null,
   "metadata": {},
   "outputs": [],
   "source": [
    "# Step1: Aoi selection\n",
    "aoi = aoi.Aoi_IO()\n",
    "aoi_tile = tiles.TileAOI(aoi, remove_method=['Country boundaries', 'Draw a shape', 'Upload file'])"
   ]
  },
  {
   "cell_type": "code",
   "execution_count": null,
   "metadata": {},
   "outputs": [],
   "source": [
    "# 2: Date selection\n",
    "date_obj = dateselector.DateSelector()\n",
    "date_tile = dateselector.date_picker_tile(date_obj)"
   ]
  },
  {
   "cell_type": "code",
   "execution_count": null,
   "metadata": {
    "scrolled": true
   },
   "outputs": [],
   "source": [
    "# 3: Run process and display outputs\n",
    "run_tile = tiles.run_process_tile(aoi, date_obj)"
   ]
  },
  {
   "cell_type": "code",
   "execution_count": null,
   "metadata": {
    "scrolled": false
   },
   "outputs": [],
   "source": [
    "step1_content = v.StepperContent(\n",
    "    key=1,\n",
    "    step=1, \n",
    "    children=[\n",
    "        v.Card(\n",
    "            children=[\n",
    "                aoi_tile\n",
    "            ]\n",
    "        )\n",
    "        \n",
    "    ]\n",
    ")  \n",
    "\n",
    "step2_content = v.StepperContent(\n",
    "key=2,\n",
    "step=2, \n",
    "children=[\n",
    "    v.Card(\n",
    "        children=[date_tile],\n",
    "        class_=\"mb-12\",\n",
    "    ),\n",
    "]\n",
    ")\n",
    "\n",
    "step3_content = v.StepperContent(\n",
    "key=3,\n",
    "step=3, \n",
    "children=[\n",
    "    v.Card(\n",
    "        children=[run_tile],\n",
    "        class_=\"mb-12\",\n",
    "#         height=\"200px\"\n",
    "    ),\n",
    "]\n",
    ")\n",
    "\n",
    "stepper_children = [\n",
    "    v.StepperStep(\n",
    "        key=1,\n",
    "        complete=False,\n",
    "        step=1,\n",
    "        editable=True,\n",
    "        children=[f\"AOI selection\"]\n",
    "    ),\n",
    "    v.Divider(),\n",
    "    v.StepperStep(\n",
    "        key=2,\n",
    "        complete=False,\n",
    "        step=2,\n",
    "        editable=True,\n",
    "        children=[f\"Date selection\"]\n",
    "    ),\n",
    "    v.Divider(),\n",
    "    v.StepperStep(\n",
    "        key=3,\n",
    "        complete=False,\n",
    "        step=3,\n",
    "        editable=True,\n",
    "        children=[f\"Run proces\"]\n",
    "    ),\n",
    "]\n",
    "\n",
    "stepper_header = v.StepperHeader(\n",
    "    children=stepper_children\n",
    ")\n",
    "\n",
    "aoi_content = v.Stepper(\n",
    "         children=[\n",
    "             stepper_header,\n",
    "             v.StepperItems(\n",
    "                 children=[\n",
    "                     step1_content,\n",
    "                     step2_content,\n",
    "                     step3_content\n",
    "                 ]\n",
    "             )\n",
    "         ]\n",
    ")"
   ]
  },
  {
   "cell_type": "code",
   "execution_count": null,
   "metadata": {},
   "outputs": [],
   "source": [
    "aoi_tile = wf.Tile('aoi_tile', 'Parameter selection', inputs=[aoi_content])"
   ]
  },
  {
   "cell_type": "code",
   "execution_count": null,
   "metadata": {},
   "outputs": [],
   "source": [
    "aoi_tile"
   ]
  }
 ],
 "metadata": {
  "kernelspec": {
   "display_name": "Python 3",
   "language": "python",
   "name": "python3"
  },
  "language_info": {
   "codemirror_mode": {
    "name": "ipython",
    "version": 3
   },
   "file_extension": ".py",
   "mimetype": "text/x-python",
   "name": "python",
   "nbconvert_exporter": "python",
   "pygments_lexer": "ipython3",
   "version": "3.6.9"
  }
 },
 "nbformat": 4,
 "nbformat_minor": 4
}
